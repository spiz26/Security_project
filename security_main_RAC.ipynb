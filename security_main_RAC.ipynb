{
 "cells": [
  {
   "cell_type": "code",
   "execution_count": 1,
   "id": "31d5d874",
   "metadata": {},
   "outputs": [],
   "source": [
    "import os\n",
    "import pickle\n",
    "import numpy as np\n",
    "import matplotlib.pyplot as plt\n",
    "\n",
    "from time import time as t\n",
    "from security_simulation import *\n",
    "from RL_method.RL_RAC import *\n",
    "\n",
    "import torch\n",
    "\n",
    "device = torch.device(\"cuda:0\" if torch.cuda.is_available() else \"cpu\")\n",
    "os.environ[\"CUDA_VISIBLE_DEVICES\"] = \"3\"\n",
    "\n",
    "\"\"\"parameters\"\"\"\n",
    "num_episode = 500\n",
    "num_pc = 7\n",
    "port_size = num_pc*2"
   ]
  },
  {
   "cell_type": "code",
   "execution_count": 2,
   "id": "e669b2fe",
   "metadata": {},
   "outputs": [],
   "source": [
    "def main(episodes):\n",
    "    num_state = 4\n",
    "    num_action = 4\n",
    "    model = NActorCritic(num_state, num_action).to(device)\n",
    "    print_interval = 20\n",
    "    score = 0.0\n",
    "    scoreList = []\n",
    "    success_rate_list = []\n",
    "    try_list = []\n",
    "    suc_act = success_action()\n",
    "    _try = 0\n",
    "    _success = 0\n",
    "    \n",
    "    for n_epi in range(1, episodes+1):\n",
    "        done = False\n",
    "        seed = int(str(t0)[11:14])\n",
    "        env = security(num_pc=num_pc, seed=seed, port_size=port_size)\n",
    "        s = env.reset()\n",
    "        \n",
    "        while not done:\n",
    "            for t in range(n_rollout):\n",
    "                \"\"\"S\"\"\"\n",
    "                prob = model.pi(torch.from_numpy(s).float().to(device))\n",
    "                m = Categorical(prob)\n",
    "                a = m.sample().item()\n",
    "                s_prime, r, done, info = env.step(a)\n",
    "                tuple_s = (s, a, r, s_prime, done)\n",
    "                \n",
    "                \"\"\"S_prime\"\"\"\n",
    "                prob2 = model.pi(torch.from_numpy(s_prime).float().to(device))\n",
    "                m2 = Categorical(prob2)\n",
    "                a2 = m2.sample().item()\n",
    "                s_prime2, r2, done2, info2 = env.step(a2)\n",
    "                tuple_s_prime = (a2, r2, s_prime2, done2)\n",
    "                \n",
    "                model.put_data((*tuple_s, *tuple_s_prime))\n",
    "                \n",
    "                s = s_prime\n",
    "                score += r\n",
    "                if info[2]:\n",
    "                    _try += 1\n",
    "                    _success += 1\n",
    "                else:\n",
    "                    _try += 1\n",
    "                \n",
    "                if done:\n",
    "                    break\n",
    "                    \n",
    "            suc_act.put(select_action(a))\n",
    "            model.train_net()\n",
    "            \n",
    "        if n_epi % print_interval == 0 and n_epi != 0:\n",
    "            scoreList.append(score/print_interval)\n",
    "            success_rate_list.append(round(_success/_try, 2))\n",
    "            try_list.append(_try)\n",
    "            print(\"\\repisode : {}, avg score : {:.1f}\".format(n_epi, score/print_interval))\n",
    "            score = 0.0\n",
    "            _try = 0\n",
    "            _success = 0\n",
    "            suc_act.reset()\n",
    "        \n",
    "        if n_epi != print_interval and n_epi != episodes:\n",
    "            print(f\"\\r{n_epi % print_interval} / {print_interval}\", end=\"\")\n",
    "            \n",
    "    return scoreList, success_rate_list, try_list, suc_act.load_list()"
   ]
  },
  {
   "cell_type": "code",
   "execution_count": 3,
   "id": "c068282b",
   "metadata": {},
   "outputs": [
    {
     "name": "stdout",
     "output_type": "stream",
     "text": [
      "episode : 20, avg score : -10.0\n",
      "episode : 40, avg score : -3.5\n",
      "episode : 60, avg score : -2.8\n",
      "episode : 80, avg score : -1.6\n",
      "episode : 100, avg score : -1.4\n",
      "episode : 120, avg score : 0.1\n",
      "episode : 140, avg score : -0.1\n",
      "episode : 160, avg score : 0.3\n",
      "episode : 180, avg score : -0.1\n",
      "episode : 200, avg score : 0.3\n",
      "episode : 220, avg score : 0.7\n",
      "episode : 240, avg score : 1.1\n",
      "episode : 260, avg score : 0.6\n",
      "episode : 280, avg score : 0.5\n",
      "episode : 300, avg score : 0.8\n",
      "episode : 320, avg score : 0.2\n",
      "episode : 340, avg score : 0.3\n",
      "episode : 360, avg score : 0.3\n",
      "episode : 380, avg score : 0.5\n",
      "episode : 400, avg score : 0.8\n",
      "episode : 420, avg score : 0.5\n",
      "episode : 440, avg score : 0.7\n",
      "episode : 460, avg score : 0.6\n",
      "episode : 480, avg score : 0.7\n",
      "episode : 500, avg score : 0.5\n"
     ]
    }
   ],
   "source": [
    "scoreList, success_rate_list, try_list, action_re = main(num_episode)"
   ]
  },
  {
   "cell_type": "code",
   "execution_count": 4,
   "id": "c63a492c",
   "metadata": {},
   "outputs": [
    {
     "data": {
      "image/png": "[encoded data removed]",
      "text/plain": [
       "<Figure size 1008x576 with 1 Axes>"
      ]
     },
     "metadata": {
      "needs_background": "light"
     },
     "output_type": "display_data"
    }
   ],
   "source": [
    "#performance visualization\n",
    "plt.figure(figsize=(14, 8))\n",
    "plt.plot(np.arange(1, len(scoreList)+1) * 10, scoreList, '*-')\n",
    "plt.xlabel('Episode')\n",
    "plt.ylabel('20 episodes average Rewards')\n",
    "plt.ylim = (-num_pc*1.2, num_pc*1.2)\n",
    "plt.show()"
   ]
  },
  {
   "cell_type": "code",
   "execution_count": 5,
   "id": "412dc7b9",
   "metadata": {},
   "outputs": [
    {
     "data": {
      "text/plain": [
       "'\\nwith open(\"result_graphs/RAC_avgReward.p\", \"wb\") as f:\\n    pickle.dump(scoreList, f)\\n\\nwith open(\"result_graphs/RAC_success.p\", \"wb\") as f:\\n    pickle.dump(success_rate_list, f)\\n\\nwith open(\"result_graphs/RAC_iteration.p\", \"wb\") as f:\\n    pickle.dump(try_list, f)\\n\\nwith open(\"result_graphs/RAC_action_re.p\", \"wb\") as f:\\n    pickle.dump(action_re, f)\\n'"
      ]
     },
     "execution_count": 5,
     "metadata": {},
     "output_type": "execute_result"
    }
   ],
   "source": [
    "\"\"\"\n",
    "with open(\"result_graphs/RAC_avgReward.p\", \"wb\") as f:\n",
    "    pickle.dump(scoreList, f)\n",
    "\n",
    "with open(\"result_graphs/RAC_success.p\", \"wb\") as f:\n",
    "    pickle.dump(success_rate_list, f)\n",
    "\n",
    "with open(\"result_graphs/RAC_iteration.p\", \"wb\") as f:\n",
    "    pickle.dump(try_list, f)\n",
    "\n",
    "with open(\"result_graphs/RAC_action_re.p\", \"wb\") as f:\n",
    "    pickle.dump(action_re, f)\n",
    "\"\"\""
   ]
  }
 ],
 "metadata": {
  "kernelspec": {
   "display_name": "Python [conda env:cyberbattle]",
   "language": "python",
   "name": "conda-env-cyberbattle-py"
  },
  "language_info": {
   "codemirror_mode": {
    "name": "ipython",
    "version": 3
   },
   "file_extension": ".py",
   "mimetype": "text/x-python",
   "name": "python",
   "nbconvert_exporter": "python",
   "pygments_lexer": "ipython3",
   "version": "3.8.13"
  }
 },
 "nbformat": 4,
 "nbformat_minor": 5
}
